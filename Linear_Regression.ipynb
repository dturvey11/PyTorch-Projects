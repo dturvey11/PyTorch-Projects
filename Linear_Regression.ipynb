{
  "nbformat": 4,
  "nbformat_minor": 0,
  "metadata": {
    "colab": {
      "name": "Linear Regression.ipynb",
      "provenance": [],
      "authorship_tag": "ABX9TyMlMd+rUCfr0Vl+Ev9/ZQ4p",
      "include_colab_link": true
    },
    "kernelspec": {
      "name": "python3",
      "display_name": "Python 3"
    },
    "language_info": {
      "name": "python"
    }
  },
  "cells": [
    {
      "cell_type": "markdown",
      "metadata": {
        "id": "view-in-github",
        "colab_type": "text"
      },
      "source": [
        "<a href=\"https://colab.research.google.com/github/dturvey11/PyTorch-Projects/blob/main/Linear_Regression.ipynb\" target=\"_parent\"><img src=\"https://colab.research.google.com/assets/colab-badge.svg\" alt=\"Open In Colab\"/></a>"
      ]
    },
    {
      "cell_type": "code",
      "metadata": {
        "colab": {
          "base_uri": "https://localhost:8080/"
        },
        "id": "OBHLVBY5ALFl",
        "outputId": "de476fce-d282-455b-fb4c-be5fe9e74688"
      },
      "source": [
        "!pip install torch"
      ],
      "execution_count": 1,
      "outputs": [
        {
          "output_type": "stream",
          "name": "stdout",
          "text": [
            "Requirement already satisfied: torch in /usr/local/lib/python3.7/dist-packages (1.9.0+cu102)\n",
            "Requirement already satisfied: typing-extensions in /usr/local/lib/python3.7/dist-packages (from torch) (3.7.4.3)\n"
          ]
        }
      ]
    },
    {
      "cell_type": "code",
      "metadata": {
        "id": "Sk4ba8r6AQmd"
      },
      "source": [
        "import torch\n",
        "import torch.nn as nn\n",
        "import matplotlib.pyplot as plt\n",
        "import numpy as np"
      ],
      "execution_count": 2,
      "outputs": []
    },
    {
      "cell_type": "code",
      "metadata": {
        "colab": {
          "base_uri": "https://localhost:8080/",
          "height": 296
        },
        "id": "ojzR70J-C6UC",
        "outputId": "fd95cc74-d11e-46c5-a596-4ea2259f82a0"
      },
      "source": [
        "x = torch.randn(100, 1)*10\n",
        "y = x + 3*torch.randn(100, 1)\n",
        "plt.plot(x.numpy(), y.numpy(), 'o')\n",
        "plt.ylabel('y')\n",
        "plt.xlabel('x')"
      ],
      "execution_count": 3,
      "outputs": [
        {
          "output_type": "execute_result",
          "data": {
            "text/plain": [
              "Text(0.5, 0, 'x')"
            ]
          },
          "metadata": {},
          "execution_count": 3
        },
        {
          "output_type": "display_data",
          "data": {
            "image/png": "[encoded data removed]",
            "text/plain": [
              "<Figure size 432x288 with 1 Axes>"
            ]
          },
          "metadata": {
            "needs_background": "light"
          }
        }
      ]
    },
    {
      "cell_type": "code",
      "metadata": {
        "id": "Ze80RajIATkY"
      },
      "source": [
        "class LR(nn.Module):\n",
        "  def __init__(self, input_size, output_size):\n",
        "    super().__init__()\n",
        "    self.linear = nn.Linear(input_size, output_size)\n",
        "  def forward(self, x):\n",
        "    pred = self.linear(x)\n",
        "    return pred"
      ],
      "execution_count": 4,
      "outputs": []
    },
    {
      "cell_type": "code",
      "metadata": {
        "id": "haQ8FqdTBFLS"
      },
      "source": [
        "torch.manual_seed(1)\n",
        "model = LR(1,1)"
      ],
      "execution_count": 5,
      "outputs": []
    },
    {
      "cell_type": "code",
      "metadata": {
        "id": "fTiF_2p8Bdov"
      },
      "source": [
        "[w, b] = model.parameters()\n",
        "\n",
        "def get_params():\n",
        "  return (w[0][0].item(), b[0].item())"
      ],
      "execution_count": 6,
      "outputs": []
    },
    {
      "cell_type": "code",
      "metadata": {
        "id": "o_i6usa1El3g"
      },
      "source": [
        "def plot_fit(title):\n",
        "  plt.title = title\n",
        "  w1, b1 = get_params()\n",
        "  x1 = np.array([-30, 30])\n",
        "  y1 = w1 * x1 + b1\n",
        "  plt.plot(x1, y1, 'r')\n",
        "  plt.scatter(x, y)\n",
        "  plt.show()"
      ],
      "execution_count": 7,
      "outputs": []
    },
    {
      "cell_type": "code",
      "metadata": {
        "colab": {
          "base_uri": "https://localhost:8080/",
          "height": 265
        },
        "id": "8Afmum9YFmFR",
        "outputId": "2c56c5d8-b534-4983-9d4d-1af7bf9065ea"
      },
      "source": [
        "plot_fit('Initial Model')"
      ],
      "execution_count": 8,
      "outputs": [
        {
          "output_type": "display_data",
          "data": {
            "image/png": "[encoded data removed]",
            "text/plain": [
              "<Figure size 432x288 with 1 Axes>"
            ]
          },
          "metadata": {
            "needs_background": "light"
          }
        }
      ]
    },
    {
      "cell_type": "code",
      "metadata": {
        "id": "r3wialDdH4ZC"
      },
      "source": [
        "criteria = nn.MSELoss()\n",
        "optimizer = torch.optim.SGD(model.parameters(), lr = 0.01)"
      ],
      "execution_count": 9,
      "outputs": []
    },
    {
      "cell_type": "code",
      "metadata": {
        "id": "0XWWMq2aKL4Q",
        "colab": {
          "base_uri": "https://localhost:8080/"
        },
        "outputId": "0eb12e8e-6604-4e92-a37d-86e43c7eb0a5"
      },
      "source": [
        "epochs = 100\n",
        "losses =[]\n",
        "for i in range(epochs):\n",
        "  y_pred = model.forward(x)\n",
        "  loss = criteria(y_pred, y)\n",
        "  print(\"epoch:\", i, \"loss:\", loss.item())\n",
        "\n",
        "  losses.append(loss)\n",
        "  optimizer.zero_grad()\n",
        "  loss.backward()\n",
        "  optimizer.step()"
      ],
      "execution_count": 10,
      "outputs": [
        {
          "output_type": "stream",
          "name": "stdout",
          "text": [
            "epoch: 0 loss: 32.00376510620117\n",
            "epoch: 1 loss: 30.145244598388672\n",
            "epoch: 2 loss: 28.434009552001953\n",
            "epoch: 3 loss: 26.85843276977539\n",
            "epoch: 4 loss: 25.407690048217773\n",
            "epoch: 5 loss: 24.071924209594727\n",
            "epoch: 6 loss: 22.84197425842285\n",
            "epoch: 7 loss: 21.70947265625\n",
            "epoch: 8 loss: 20.66668701171875\n",
            "epoch: 9 loss: 19.706483840942383\n",
            "epoch: 10 loss: 18.82229995727539\n",
            "epoch: 11 loss: 18.008140563964844\n",
            "epoch: 12 loss: 17.258441925048828\n",
            "epoch: 13 loss: 16.568078994750977\n",
            "epoch: 14 loss: 15.932352066040039\n",
            "epoch: 15 loss: 15.34693717956543\n",
            "epoch: 16 loss: 14.807822227478027\n",
            "epoch: 17 loss: 14.311352729797363\n",
            "epoch: 18 loss: 13.854150772094727\n",
            "epoch: 19 loss: 13.433096885681152\n",
            "epoch: 20 loss: 13.045327186584473\n",
            "epoch: 21 loss: 12.688201904296875\n",
            "epoch: 22 loss: 12.359299659729004\n",
            "epoch: 23 loss: 12.056379318237305\n",
            "epoch: 24 loss: 11.777379035949707\n",
            "epoch: 25 loss: 11.520411491394043\n",
            "epoch: 26 loss: 11.283727645874023\n",
            "epoch: 27 loss: 11.065718650817871\n",
            "epoch: 28 loss: 10.864910125732422\n",
            "epoch: 29 loss: 10.679936408996582\n",
            "epoch: 30 loss: 10.50954818725586\n",
            "epoch: 31 loss: 10.352590560913086\n",
            "epoch: 32 loss: 10.207998275756836\n",
            "epoch: 33 loss: 10.074793815612793\n",
            "epoch: 34 loss: 9.952075958251953\n",
            "epoch: 35 loss: 9.839018821716309\n",
            "epoch: 36 loss: 9.73485279083252\n",
            "epoch: 37 loss: 9.63887882232666\n",
            "epoch: 38 loss: 9.550446510314941\n",
            "epoch: 39 loss: 9.468962669372559\n",
            "epoch: 40 loss: 9.393877029418945\n",
            "epoch: 41 loss: 9.324684143066406\n",
            "epoch: 42 loss: 9.260919570922852\n",
            "epoch: 43 loss: 9.202153205871582\n",
            "epoch: 44 loss: 9.147994041442871\n",
            "epoch: 45 loss: 9.098075866699219\n",
            "epoch: 46 loss: 9.05206298828125\n",
            "epoch: 47 loss: 9.009649276733398\n",
            "epoch: 48 loss: 8.970551490783691\n",
            "epoch: 49 loss: 8.934505462646484\n",
            "epoch: 50 loss: 8.901274681091309\n",
            "epoch: 51 loss: 8.870636940002441\n",
            "epoch: 52 loss: 8.842384338378906\n",
            "epoch: 53 loss: 8.816332817077637\n",
            "epoch: 54 loss: 8.792308807373047\n",
            "epoch: 55 loss: 8.770151138305664\n",
            "epoch: 56 loss: 8.749715805053711\n",
            "epoch: 57 loss: 8.730864524841309\n",
            "epoch: 58 loss: 8.71347427368164\n",
            "epoch: 59 loss: 8.697430610656738\n",
            "epoch: 60 loss: 8.682629585266113\n",
            "epoch: 61 loss: 8.668970108032227\n",
            "epoch: 62 loss: 8.656365394592285\n",
            "epoch: 63 loss: 8.644732475280762\n",
            "epoch: 64 loss: 8.633995056152344\n",
            "epoch: 65 loss: 8.624082565307617\n",
            "epoch: 66 loss: 8.6149320602417\n",
            "epoch: 67 loss: 8.606483459472656\n",
            "epoch: 68 loss: 8.59868049621582\n",
            "epoch: 69 loss: 8.591473579406738\n",
            "epoch: 70 loss: 8.584817886352539\n",
            "epoch: 71 loss: 8.578670501708984\n",
            "epoch: 72 loss: 8.572988510131836\n",
            "epoch: 73 loss: 8.567739486694336\n",
            "epoch: 74 loss: 8.562887191772461\n",
            "epoch: 75 loss: 8.558402061462402\n",
            "epoch: 76 loss: 8.554256439208984\n",
            "epoch: 77 loss: 8.550422668457031\n",
            "epoch: 78 loss: 8.54687786102295\n",
            "epoch: 79 loss: 8.543598175048828\n",
            "epoch: 80 loss: 8.540563583374023\n",
            "epoch: 81 loss: 8.537755966186523\n",
            "epoch: 82 loss: 8.535157203674316\n",
            "epoch: 83 loss: 8.532752990722656\n",
            "epoch: 84 loss: 8.530527114868164\n",
            "epoch: 85 loss: 8.528464317321777\n",
            "epoch: 86 loss: 8.526554107666016\n",
            "epoch: 87 loss: 8.524784088134766\n",
            "epoch: 88 loss: 8.523143768310547\n",
            "epoch: 89 loss: 8.521624565124512\n",
            "epoch: 90 loss: 8.520214080810547\n",
            "epoch: 91 loss: 8.51890754699707\n",
            "epoch: 92 loss: 8.517694473266602\n",
            "epoch: 93 loss: 8.516570091247559\n",
            "epoch: 94 loss: 8.515524864196777\n",
            "epoch: 95 loss: 8.514555931091309\n",
            "epoch: 96 loss: 8.513655662536621\n",
            "epoch: 97 loss: 8.5128173828125\n",
            "epoch: 98 loss: 8.512040138244629\n",
            "epoch: 99 loss: 8.51131820678711\n"
          ]
        }
      ]
    },
    {
      "cell_type": "code",
      "metadata": {
        "colab": {
          "base_uri": "https://localhost:8080/",
          "height": 296
        },
        "id": "JJJqusIeqZh1",
        "outputId": "64ba9d0b-ccd0-41b6-9622-5164bbfc50a1"
      },
      "source": [
        "plt.plot(range(epochs), losses)\n",
        "plt.ylabel('Loss')\n",
        "plt.xlabel('epoch')"
      ],
      "execution_count": 13,
      "outputs": [
        {
          "output_type": "execute_result",
          "data": {
            "text/plain": [
              "Text(0.5, 0, 'epoch')"
            ]
          },
          "metadata": {},
          "execution_count": 13
        },
        {
          "output_type": "display_data",
          "data": {
            "image/png": "[encoded data removed]",
            "text/plain": [
              "<Figure size 432x288 with 1 Axes>"
            ]
          },
          "metadata": {
            "needs_background": "light"
          }
        }
      ]
    },
    {
      "cell_type": "code",
      "metadata": {
        "colab": {
          "base_uri": "https://localhost:8080/",
          "height": 265
        },
        "id": "Nb3cIiyhqzgd",
        "outputId": "a2d6aa0c-feb9-4674-dd89-b261f24f4ba7"
      },
      "source": [
        "plot_fit(\"Trained Model\")"
      ],
      "execution_count": 14,
      "outputs": [
        {
          "output_type": "display_data",
          "data": {
            "image/png": "[encoded data removed]",
            "text/plain": [
              "<Figure size 432x288 with 1 Axes>"
            ]
          },
          "metadata": {
            "needs_background": "light"
          }
        }
      ]
    },
    {
      "cell_type": "code",
      "metadata": {
        "id": "OA0uy4LOq7G1"
      },
      "source": [
        ""
      ],
      "execution_count": null,
      "outputs": []
    }
  ]
}